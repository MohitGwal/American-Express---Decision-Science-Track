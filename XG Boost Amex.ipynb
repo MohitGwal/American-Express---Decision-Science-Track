{
  "nbformat": 4,
  "nbformat_minor": 0,
  "metadata": {
    "colab": {
      "provenance": []
    },
    "kernelspec": {
      "name": "python3",
      "display_name": "Python 3"
    },
    "language_info": {
      "name": "python"
    }
  },
  "cells": [
    {
      "cell_type": "code",
      "execution_count": 3,
      "metadata": {
        "colab": {
          "base_uri": "https://localhost:8080/"
        },
        "id": "XFDv5Tl4CC_7",
        "outputId": "77d2fa75-d51e-4ce7-fb8a-c00be12c056c"
      },
      "outputs": [
        {
          "output_type": "stream",
          "name": "stdout",
          "text": [
            "Accuracy: 0.57\n",
            "              precision    recall  f1-score   support\n",
            "\n",
            "           0       0.54      0.59      0.56        82\n",
            "           1       0.61      0.56      0.59        94\n",
            "\n",
            "    accuracy                           0.57       176\n",
            "   macro avg       0.57      0.57      0.57       176\n",
            "weighted avg       0.58      0.57      0.57       176\n",
            "\n"
          ]
        }
      ],
      "source": [
        "import pandas as pd\n",
        "from sklearn.model_selection import train_test_split\n",
        "from xgboost import XGBClassifier\n",
        "from sklearn.metrics import accuracy_score, classification_report\n",
        "\n",
        "# Step 1: Load the data\n",
        "# Assuming your data is in a file called 'data.csv'\n",
        "data = pd.read_csv('amex.csv')\n",
        "\n",
        "# Step 2: Separate features and labels\n",
        "# Assuming the last column is the label\n",
        "X = data.iloc[:, :-1]  # Features (all columns except the last one)\n",
        "y = data.iloc[:, -1]   # Labels (the last column)\n",
        "\n",
        "# Adjust labels to start from 0\n",
        "y = y - 1\n",
        "\n",
        "# Step 3: Split the data into training and testing sets\n",
        "X_train, X_test, y_train, y_test = train_test_split(X, y, test_size=0.2, random_state=42)\n",
        "\n",
        "# Step 4: Train the XGBoost classifier\n",
        "clf = XGBClassifier(n_estimators=100, random_state=42, use_label_encoder=False)\n",
        "clf.fit(X_train, y_train)\n",
        "\n",
        "# Step 5: Evaluate the classifier\n",
        "y_pred = clf.predict(X_test)\n",
        "\n",
        "# Calculate accuracy\n",
        "accuracy = accuracy_score(y_test, y_pred)\n",
        "print(f'Accuracy: {accuracy:.2f}')\n",
        "\n",
        "# Print detailed classification report\n",
        "print(classification_report(y_test, y_pred))\n"
      ]
    },
    {
      "cell_type": "code",
      "source": [],
      "metadata": {
        "id": "3s-1ZwzlCSvt"
      },
      "execution_count": null,
      "outputs": []
    }
  ]
}