{
  "nbformat": 4,
  "nbformat_minor": 0,
  "metadata": {
    "colab": {
      "provenance": []
    },
    "kernelspec": {
      "name": "python3",
      "display_name": "Python 3"
    },
    "language_info": {
      "name": "python"
    }
  },
  "cells": [
    {
      "cell_type": "code",
      "source": [
        "import pandas as pd\n",
        "from sklearn.model_selection import train_test_split, cross_val_score, GridSearchCV\n",
        "from xgboost import XGBClassifier\n",
        "from sklearn.metrics import accuracy_score, classification_report\n",
        "from sklearn.pipeline import Pipeline\n",
        "\n",
        "# Step 1: Load the data\n",
        "data = pd.read_csv('ac.csv')\n",
        "\n",
        "# Step 2: Separate features and labels\n",
        "X = data.iloc[:, :-1]  # Features (all columns except the last one)\n",
        "y = data.iloc[:, -1]   # Labels (the last column)\n",
        "\n",
        "# Adjust labels to start from 0, if necessary\n",
        "y = y - 1\n",
        "\n",
        "# Step 3: Split the data into training and testing sets\n",
        "X_train, X_test, y_train, y_test = train_test_split(X, y, test_size=0.2, random_state=42)\n",
        "\n",
        "# Step 4: Define the XGBoost classifier and parameter grid\n",
        "clf = XGBClassifier(objective='binary:logistic', use_label_encoder=False, eval_metric='logloss')\n",
        "\n",
        "param_grid = {\n",
        "    'max_depth': [3, 4, 5],\n",
        "    'alpha': [1, 10],\n",
        "    'learning_rate': [0.01, 0.1, 1.0],\n",
        "    'n_estimators': [100, 200]\n",
        "}\n",
        "\n",
        "# Step 5: Perform GridSearchCV to find the best hyperparameters\n",
        "grid_search = GridSearchCV(clf, param_grid, cv=5, scoring='accuracy', verbose=1, n_jobs=-1)\n",
        "grid_search.fit(X_train, y_train)\n",
        "\n",
        "# Step 6: Evaluate the best estimator found by GridSearchCV\n",
        "best_clf = grid_search.best_estimator_\n",
        "\n",
        "# Perform cross-validation on the training set\n",
        "cv_scores = cross_val_score(best_clf, X_train, y_train, cv=5, scoring='accuracy')\n",
        "\n",
        "# Print cross-validation scores\n",
        "print(f'Cross-validation scores: {cv_scores}')\n",
        "print(f'Mean cross-validation score: {cv_scores.mean():.2f}')\n",
        "\n",
        "# Step 7: Evaluate the classifier on the test set\n",
        "y_pred = best_clf.predict(X_test)\n",
        "\n",
        "# Calculate accuracy\n",
        "accuracy = accuracy_score(y_test, y_pred)\n",
        "print(f'Accuracy on test set: {accuracy:.2f}')\n",
        "\n",
        "# Print detailed classification report\n",
        "print(classification_report(y_test, y_pred))\n",
        "\n",
        "# Print the best parameters found by GridSearchCV\n",
        "print(f'Best parameters: {grid_search.best_params_}')\n"
      ],
      "metadata": {
        "colab": {
          "base_uri": "https://localhost:8080/"
        },
        "id": "3s-1ZwzlCSvt",
        "outputId": "5be3fb44-a8c2-44e4-a490-39966507803c"
      },
      "execution_count": 9,
      "outputs": [
        {
          "output_type": "stream",
          "name": "stdout",
          "text": [
            "Fitting 5 folds for each of 36 candidates, totalling 180 fits\n",
            "Cross-validation scores: [0.54609929 0.56028369 0.55319149 0.57446809 0.52857143]\n",
            "Mean cross-validation score: 0.55\n",
            "Accuracy on test set: 0.59\n",
            "              precision    recall  f1-score   support\n",
            "\n",
            "           0       0.54      0.71      0.61        82\n",
            "           1       0.65      0.48      0.55        94\n",
            "\n",
            "    accuracy                           0.59       176\n",
            "   macro avg       0.60      0.59      0.58       176\n",
            "weighted avg       0.60      0.59      0.58       176\n",
            "\n",
            "Best parameters: {'alpha': 10, 'learning_rate': 0.01, 'max_depth': 5, 'n_estimators': 100}\n"
          ]
        }
      ]
    },
    {
      "cell_type": "code",
      "source": [],
      "metadata": {
        "id": "Bbwf1TuCDjhD"
      },
      "execution_count": null,
      "outputs": []
    }
  ]
}